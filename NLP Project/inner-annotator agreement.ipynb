{
 "cells": [
  {
   "cell_type": "code",
   "execution_count": 10,
   "id": "sought-screen",
   "metadata": {},
   "outputs": [],
   "source": [
    "from sklearn.metrics import cohen_kappa_score\n",
    "import pandas as pd"
   ]
  },
  {
   "cell_type": "code",
   "execution_count": 11,
   "id": "executed-poker",
   "metadata": {},
   "outputs": [],
   "source": [
    "rater1 = pd.read_csv('random_comments.csv')['label']"
   ]
  },
  {
   "cell_type": "code",
   "execution_count": 13,
   "id": "moderate-switch",
   "metadata": {},
   "outputs": [],
   "source": [
    "rater2 = pd.read_csv('random_comments_josh.csv')['label']"
   ]
  },
  {
   "cell_type": "code",
   "execution_count": 14,
   "id": "sonic-calendar",
   "metadata": {},
   "outputs": [
    {
     "data": {
      "text/plain": [
       "0.5214595483774488"
      ]
     },
     "execution_count": 14,
     "metadata": {},
     "output_type": "execute_result"
    }
   ],
   "source": [
    "cohen_kappa_score(rater1, rater2)"
   ]
  },
  {
   "cell_type": "code",
   "execution_count": null,
   "id": "freelance-hardware",
   "metadata": {},
   "outputs": [],
   "source": []
  }
 ],
 "metadata": {
  "kernelspec": {
   "display_name": "Python 3",
   "language": "python",
   "name": "python3"
  },
  "language_info": {
   "codemirror_mode": {
    "name": "ipython",
    "version": 3
   },
   "file_extension": ".py",
   "mimetype": "text/x-python",
   "name": "python",
   "nbconvert_exporter": "python",
   "pygments_lexer": "ipython3",
   "version": "3.7.7"
  }
 },
 "nbformat": 4,
 "nbformat_minor": 5
}
